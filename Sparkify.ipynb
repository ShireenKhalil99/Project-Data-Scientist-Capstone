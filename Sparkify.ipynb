{
 "cells": [
  {
   "cell_type": "markdown",
   "metadata": {},
   "source": [
    "# Sparkify Project Workspace\n",
    "This workspace contains a tiny subset (128MB) of the full dataset available (12GB). Feel free to use this workspace to build your project, or to explore a smaller subset with Spark before deploying your cluster on the cloud. Instructions for setting up your Spark cluster is included in the last lesson of the Extracurricular Spark Course content.\n",
    "\n",
    "You can follow the steps below to guide your data analysis and model building portion of this project."
   ]
  },
  {
   "cell_type": "markdown",
   "metadata": {},
   "source": [
    "# Metrics"
   ]
  },
  {
   "cell_type": "code",
   "execution_count": 56,
   "metadata": {},
   "outputs": [],
   "source": [
    "# import libraries\n",
    "from pyspark.sql import SparkSession\n",
    "from pyspark.sql.functions import avg, col, concat, desc, explode, lit, min, max, split, udf, isnull\n",
    "from pyspark.sql.types import IntegerType, StringType\n",
    "\n",
    "from pyspark.ml import Pipeline\n",
    "from pyspark.ml.classification import LogisticRegression, RandomForestClassifier, GBTClassifier , DecisionTreeClassifier, NaiveBayes\n",
    "from pyspark.ml.evaluation import MulticlassClassificationEvaluator\n",
    "from pyspark.ml.feature import CountVectorizer, IDF, Normalizer, PCA, RegexTokenizer, StandardScaler, StopWordsRemover, StringIndexer, VectorAssembler\n",
    "from pyspark.ml.regression import LinearRegression\n",
    "from pyspark.ml.tuning import CrossValidator, ParamGridBuilder\n",
    "\n",
    "import re\n",
    "import datetime\n",
    "import matplotlib.pyplot as plt\n",
    "import pandas as pd\n",
    "import seaborn as sns"
   ]
  },
  {
   "cell_type": "code",
   "execution_count": 45,
   "metadata": {},
   "outputs": [],
   "source": [
    "spark = SparkSession.builder \\\n",
    "    .appName(\"PySparkSetup\") \\\n",
    "    .config(\"spark.pyspark.python\", \"c:\\\\Users\\\\moz95\\\\AppData\\\\Local\\\\Programs\\\\Python\\\\Python313\\\\python.exe\") \\\n",
    "    .config(\"spark.pyspark.driver.python\", \"c:\\\\Users\\\\moz95\\\\AppData\\\\Local\\\\Programs\\\\Python\\\\Python313\\\\python.exe\") \\\n",
    "    .getOrCreate()"
   ]
  },
  {
   "cell_type": "code",
   "execution_count": 3,
   "metadata": {},
   "outputs": [],
   "source": [
    "# create a Spark session\n",
    "spark = SparkSession.builder \\\n",
    "    .appName(\"Sparkify Project\") \\\n",
    "    .getOrCreate()"
   ]
  },
  {
   "cell_type": "code",
   "execution_count": 4,
   "metadata": {},
   "outputs": [],
   "source": [
    "from pyspark.sql import SparkSession\n",
    "\n",
    "spark = SparkSession.builder \\\n",
    "    .appName(\"Sparkify\") \\\n",
    "    .config(\"spark.jars.packages\", \"org.apache.spark:spark-sql_2.12:3.1.2\") \\\n",
    "    .config(\"spark.executor.memory\", \"2g\") \\\n",
    "    .config(\"spark.driver.memory\", \"2g\") \\\n",
    "    .config(\"spark.network.timeout\", \"800s\") \\\n",
    "    .config(\"spark.executor.heartbeatInterval\", \"60s\") \\\n",
    "    .getOrCreate()"
   ]
  },
  {
   "cell_type": "code",
   "execution_count": 5,
   "metadata": {},
   "outputs": [],
   "source": [
    "spark = SparkSession.builder \\\n",
    "    .appName(\"Sparkify\") \\\n",
    "    .master(\"local[*]\") \\\n",
    "    .getOrCreate()\n"
   ]
  },
  {
   "cell_type": "markdown",
   "metadata": {},
   "source": [
    "# Load and Clean Dataset\n",
    "In this workspace, the mini-dataset file is `mini_sparkify_event_data.json`. Load and clean the dataset, checking for invalid or missing data - for example, records without userids or sessionids. "
   ]
  },
  {
   "cell_type": "code",
   "execution_count": 6,
   "metadata": {},
   "outputs": [],
   "source": [
    "# Load the dataset into a Spark DataFrame\n",
    "df = spark.read.json(\"mini_sparkify_event_data.json\")"
   ]
  },
  {
   "cell_type": "code",
   "execution_count": 7,
   "metadata": {},
   "outputs": [
    {
     "name": "stdout",
     "output_type": "stream",
     "text": [
      "root\n",
      " |-- artist: string (nullable = true)\n",
      " |-- auth: string (nullable = true)\n",
      " |-- firstName: string (nullable = true)\n",
      " |-- gender: string (nullable = true)\n",
      " |-- itemInSession: long (nullable = true)\n",
      " |-- lastName: string (nullable = true)\n",
      " |-- length: double (nullable = true)\n",
      " |-- level: string (nullable = true)\n",
      " |-- location: string (nullable = true)\n",
      " |-- method: string (nullable = true)\n",
      " |-- page: string (nullable = true)\n",
      " |-- registration: long (nullable = true)\n",
      " |-- sessionId: long (nullable = true)\n",
      " |-- song: string (nullable = true)\n",
      " |-- status: long (nullable = true)\n",
      " |-- ts: long (nullable = true)\n",
      " |-- userAgent: string (nullable = true)\n",
      " |-- userId: string (nullable = true)\n",
      "\n"
     ]
    }
   ],
   "source": [
    "# Display schema of the DataFrame\n",
    "df.printSchema()"
   ]
  },
  {
   "cell_type": "code",
   "execution_count": 8,
   "metadata": {},
   "outputs": [
    {
     "data": {
      "text/plain": [
       "286500"
      ]
     },
     "execution_count": 8,
     "metadata": {},
     "output_type": "execute_result"
    }
   ],
   "source": [
    "df.count()"
   ]
  },
  {
   "cell_type": "code",
   "execution_count": 9,
   "metadata": {},
   "outputs": [
    {
     "data": {
      "text/plain": [
       "286500"
      ]
     },
     "execution_count": 9,
     "metadata": {},
     "output_type": "execute_result"
    }
   ],
   "source": [
    "df = df.dropna(how = \"any\", subset = [\"userId\", \"sessionId\"])\n",
    "df.count()"
   ]
  },
  {
   "cell_type": "code",
   "execution_count": 10,
   "metadata": {},
   "outputs": [
    {
     "data": {
      "text/plain": [
       "278154"
      ]
     },
     "execution_count": 10,
     "metadata": {},
     "output_type": "execute_result"
    }
   ],
   "source": [
    "# Clean the empty userId\n",
    "\n",
    "df = df.filter(df.userId!=\"\")\n",
    "df.count()"
   ]
  },
  {
   "cell_type": "markdown",
   "metadata": {},
   "source": [
    "\n",
    "Upon initially loading the dataset, I observed that it contains 286,500 log entries spanning 18 unique columns. These entries represent individual transactions rather than unique users (GET USER COUNT HERE). Below is a breakdown of the dataset's columns:\n",
    "\n",
    "- Artist: The artist being listened to\n",
    "- Auth: Indicates whether the user is logged in\n",
    "- FirstName: The user's first name\n",
    "- Gender: The user's gender\n",
    "- ItemInSession: The item number within a session\n",
    "- LastName: The user's last name\n",
    "- Length: Duration of a specific log entry\n",
    "- Level: Specifies if the user has a free or paid account\n",
    "- Location: The user's physical location\n",
    "- Method: Type of web request (e.g., GET, PUT)\n",
    "- Page: The webpage the user is currently on\n",
    "- Registration: The user's registration number\n",
    "- SessionId: Identifier for the user's session\n",
    "- Song: The song being played\n",
    "- Status: HTTP status code (e.g., 200 for OK)\n",
    "- Ts: Timestamp of the current log\n",
    "- UserAgent: The browser or device used by the user\n",
    "- UserId: The user's unique identifier"
   ]
  },
  {
   "cell_type": "markdown",
   "metadata": {},
   "source": [
    "# Exploratory Data Analysis\n",
    "When you're working with the full dataset, perform EDA by loading a small subset of the data and doing basic manipulations within Spark. In this workspace, you are already provided a small subset of data you can explore.\n",
    "\n",
    "### Define Churn\n",
    "\n",
    "Once you've done some preliminary analysis, create a column `Churn` to use as the label for your model. I suggest using the `Cancellation Confirmation` events to define your churn, which happen for both paid and free users. As a bonus task, you can also look into the `Downgrade` events.\n",
    "\n",
    "### Explore Data\n",
    "Once you've defined churn, perform some exploratory data analysis to observe the behavior for users who stayed vs users who churned. You can start by exploring aggregates on these two groups of users, observing how much of a specific action they experienced per a certain time unit or number of songs played."
   ]
  },
  {
   "cell_type": "code",
   "execution_count": 11,
   "metadata": {},
   "outputs": [
    {
     "name": "stdout",
     "output_type": "stream",
     "text": [
      "+--------------------+\n",
      "|                page|\n",
      "+--------------------+\n",
      "|              Cancel|\n",
      "|    Submit Downgrade|\n",
      "|         Thumbs Down|\n",
      "|                Home|\n",
      "|           Downgrade|\n",
      "|         Roll Advert|\n",
      "|              Logout|\n",
      "|       Save Settings|\n",
      "|Cancellation Conf...|\n",
      "|               About|\n",
      "|            Settings|\n",
      "|     Add to Playlist|\n",
      "|          Add Friend|\n",
      "|            NextSong|\n",
      "|           Thumbs Up|\n",
      "|                Help|\n",
      "|             Upgrade|\n",
      "|               Error|\n",
      "|      Submit Upgrade|\n",
      "+--------------------+\n",
      "\n"
     ]
    }
   ],
   "source": [
    "# See Different Pages\n",
    "\n",
    "df.select(\"page\").dropDuplicates().show()"
   ]
  },
  {
   "cell_type": "markdown",
   "metadata": {},
   "source": [
    "One column of particular importance is the \"Page\" column, which provides insight into the specific pages users are interacting with on the platform.\n",
    "The possible values in the \"Page\" column are as follows:\n",
    "\n",
    "- Add Friend\n",
    "- Add to Playlist\n",
    "- Cancel\n",
    "- Cancellation Confirmation\n",
    "- Downgrade\n",
    "- Error\n",
    "- Help\n",
    "- Home\n",
    "- Logout\n",
    "- NextSong\n",
    "- Roll Advert\n",
    "- Save Settings\n",
    "- Settings"
   ]
  },
  {
   "cell_type": "markdown",
   "metadata": {},
   "source": [
    "The pages we never want to see users utilize is the “Cancel” and especially the “Cancellation Confirmation”."
   ]
  },
  {
   "cell_type": "code",
   "execution_count": 12,
   "metadata": {},
   "outputs": [
    {
     "name": "stdout",
     "output_type": "stream",
     "text": [
      "+------+\n",
      "|userId|\n",
      "+------+\n",
      "|    18|\n",
      "|    32|\n",
      "|   125|\n",
      "|    51|\n",
      "|   101|\n",
      "|    87|\n",
      "|    17|\n",
      "|   122|\n",
      "|   143|\n",
      "|   105|\n",
      "|   121|\n",
      "|    12|\n",
      "|   129|\n",
      "|    73|\n",
      "|     3|\n",
      "|    58|\n",
      "|    28|\n",
      "|   103|\n",
      "|   106|\n",
      "|    54|\n",
      "+------+\n",
      "only showing top 20 rows\n",
      "\n"
     ]
    }
   ],
   "source": [
    "df.filter(df.page==\"Cancellation Confirmation\").select(\"userId\").dropDuplicates().show(20)"
   ]
  },
  {
   "cell_type": "code",
   "execution_count": 13,
   "metadata": {},
   "outputs": [
    {
     "name": "stdout",
     "output_type": "stream",
     "text": [
      "+------+---------------+-------------+-----+--------------------+---------+\n",
      "|userId|           page|           ts|level|                song|sessionId|\n",
      "+------+---------------+-------------+-----+--------------------+---------+\n",
      "|   123|       NextSong|1540578325000| free|          Hammerhart|      243|\n",
      "|   123|    Roll Advert|1540578372000| free|                NULL|      243|\n",
      "|   123|       NextSong|1540578528000| free|         Kennedy Rag|      243|\n",
      "|   123|         Logout|1540578529000| free|                NULL|      243|\n",
      "|   123|           Home|1540578601000| free|                NULL|      243|\n",
      "|   123|       NextSong|1540578684000| free|   The Sun Also Sets|      243|\n",
      "|   123|Add to Playlist|1540578731000| free|                NULL|      243|\n",
      "|   123|       NextSong|1540578933000| free|      The Golden Age|      243|\n",
      "|   123|       NextSong|1540579163000| free|             Pimp On|      243|\n",
      "|   123|       NextSong|1540579446000| free|        Hero/Heroine|      243|\n",
      "|   123|       NextSong|1540579678000| free|          Hanging On|      243|\n",
      "|   123|       NextSong|1540579882000| free|Catch You Baby (S...|      243|\n",
      "|   123|       NextSong|1540580063000| free|All I Do Is Win (...|      243|\n",
      "|   123|       NextSong|1540580290000| free|           Mr. Jones|      243|\n",
      "|   123|       NextSong|1540580562000| free|             Fanfare|      243|\n",
      "|   123|       NextSong|1540580826000| free|Hollywood (Album ...|      243|\n",
      "|   123|       NextSong|1540581056000| free| Moments In Oblivion|      243|\n",
      "|   123|Add to Playlist|1540581075000| free|                NULL|      243|\n",
      "|   123|       NextSong|1540581159000| free|            Tive Sim|      243|\n",
      "|   123|       NextSong|1540581286000| free| Meen Dah Elly Nseik|      243|\n",
      "|   123|       NextSong|1540581507000| free| Everybody Everybody|      243|\n",
      "|   123|       NextSong|1540581754000| free|            The Veil|      243|\n",
      "|   123|    Roll Advert|1540581826000| free|                NULL|      243|\n",
      "|   123|       NextSong|1540582013000| free|Too Much (LP Vers...|      243|\n",
      "|   123|       NextSong|1540582217000| free|          Just Dance|      243|\n",
      "|   123|       NextSong|1540582455000| free|Now I Lay Thee Do...|      243|\n",
      "|   123|       NextSong|1541121964000| free|Wake Up America (...|     1318|\n",
      "|   123|       NextSong|1541122036000| free|                 Ask|     1318|\n",
      "|   123|Add to Playlist|1541122129000| free|                NULL|     1318|\n",
      "|   123|       NextSong|1541122232000| free|      Kingdom Of Ice|     1318|\n",
      "|   123|       NextSong|1541122435000| free|  Livin' On A Prayer|     1318|\n",
      "|   123|       NextSong|1541122685000| free|      Let's Get Loud|     1318|\n",
      "|   123|       NextSong|1541122924000| free|   Never Let Me Down|     1318|\n",
      "|   123|       NextSong|1541123251000| free|The Ship Song (Pa...|     1318|\n",
      "|   123|    Roll Advert|1541123265000| free|                NULL|     1318|\n",
      "|   123|       NextSong|1541123500000| free|            Carpates|     1318|\n",
      "|   123|       NextSong|1541123813000| free|The End Of The World|     1318|\n",
      "|   123|       NextSong|1541123969000| free|             Revelry|     1318|\n",
      "|   123|       NextSong|1541124170000| free|      Jailhouse Rock|     1318|\n",
      "|   123|Add to Playlist|1541124303000| free|                NULL|     1318|\n",
      "|   123|       NextSong|1541124454000| free|Tripping Down the...|     1318|\n",
      "|   123|         Logout|1541124455000| free|                NULL|     1318|\n",
      "|   123|           Home|1541164941000| free|                NULL|     1531|\n",
      "|   123|       NextSong|1541165003000| free|         Dory Previn|     1531|\n",
      "|   123|       NextSong|1541165257000| free|     The Rascal King|     1531|\n",
      "|   123|       NextSong|1541165423000| free|                XRDS|     1531|\n",
      "|   123|       Settings|1541165497000| free|                NULL|     1531|\n",
      "|   123|       NextSong|1541165723000| free|     Change of Heart|     1531|\n",
      "|   123|       NextSong|1541166097000| free|    We Could Forever|     1531|\n",
      "|   123|       NextSong|1541166356000| free|A Beggar On A Bea...|     1531|\n",
      "|   123|Add to Playlist|1541166415000| free|                NULL|     1531|\n",
      "|   123|       NextSong|1541166631000| free|           Deprogram|     1531|\n",
      "|   123|       NextSong|1541166789000| free|The Man Who Laugh...|     1531|\n",
      "|   123|       NextSong|1541167373000| free|                 MIA|     1531|\n",
      "|   123|       NextSong|1541167597000| free|Sinisten tÃÂ¤hti...|     1531|\n",
      "|   123|    Roll Advert|1541167618000| free|                NULL|     1531|\n",
      "|   123|       NextSong|1541167933000| free|REIPPAINA KÃÂYM...|     1531|\n",
      "|   123|       NextSong|1541168095000| free|   That's What It Is|     1531|\n",
      "|   123|    Roll Advert|1541168127000| free|                NULL|     1531|\n",
      "|   123|       NextSong|1541168335000| free|    Blue (Da Ba Dee)|     1531|\n",
      "|   123|       NextSong|1541168620000| free|           Final Cut|     1531|\n",
      "|   123|       NextSong|1541169118000| free|Lotta Boot Left T...|     1531|\n",
      "|   123|       NextSong|1541169321000| free|Scatman (Ski-Ba-B...|     1531|\n",
      "|   123|       NextSong|1541169533000| free|Crawling (Album V...|     1531|\n",
      "|   123|       NextSong|1541169741000| free|  Fuck The Pain Away|     1531|\n",
      "|   123|       NextSong|1541169991000| free|Fountains And Tra...|     1531|\n",
      "|   123|       NextSong|1541170230000| free|        All My Fault|     1531|\n",
      "|   123|       NextSong|1541170400000| free| Holdin' On Together|     1531|\n",
      "|   123|       NextSong|1541170607000| free|          King Cobra|     1531|\n",
      "|   123|       NextSong|1541170847000| free|      You're The One|     1531|\n",
      "|   123|       NextSong|1541171086000| free|Of Myth And Men (...|     1531|\n",
      "|   123|    Thumbs Down|1541171087000| free|                NULL|     1531|\n",
      "|   123|       NextSong|1541171345000| free|The Supreme Illusion|     1531|\n",
      "|   123|       NextSong|1541171595000| free|Ebrios De Soledad...|     1531|\n",
      "|   123|     Add Friend|1541171596000| free|                NULL|     1531|\n",
      "|   123|     Add Friend|1541171597000| free|                NULL|     1531|\n",
      "|   123|           Help|1541171597000| free|                NULL|     1531|\n",
      "|   123|       NextSong|1541171781000| free|        Your New Man|     1531|\n",
      "|   123|       NextSong|1541172027000| free|       Sonny Feeling|     1531|\n",
      "|   123|       NextSong|1541172278000| free|          Sleepyhead|     1531|\n",
      "|   123|           Home|1541172296000| free|                NULL|     1531|\n",
      "|   123|       NextSong|1541172426000| free|    End of the Movie|     1531|\n",
      "|   123|       NextSong|1541172535000| free|                 Fly|     1531|\n",
      "|   123|    Roll Advert|1541172541000| free|                NULL|     1531|\n",
      "|   123|       NextSong|1541172841000| free|           Let Me Go|     1531|\n",
      "|   123|       NextSong|1541173050000| free|               Molly|     1531|\n",
      "|   123|       NextSong|1541725925000| free|               Freal|     1550|\n",
      "|   123|       NextSong|1541726156000| free|Evening Prayer  (...|     1550|\n",
      "|   123|      Thumbs Up|1541726157000| free|                NULL|     1550|\n",
      "|   123|       NextSong|1541726331000| free|     Adrenaline Rush|     1550|\n",
      "|   123|       NextSong|1541726559000| free|Until The End Of ...|     1550|\n",
      "|   123|       NextSong|1541726881000| free|        Olive Hearts|     1550|\n",
      "|   123|           Home|1541726893000| free|                NULL|     1550|\n",
      "|   123|       NextSong|1541727210000| free|     Meeting Da Plug|     1550|\n",
      "|   123|       NextSong|1541727334000| free|               Blood|     1550|\n",
      "|   123|       NextSong|1541727600000| free|                Ella|     1550|\n",
      "|   123|    Roll Advert|1541727618000| free|                NULL|     1550|\n",
      "|   123|       NextSong|1541727816000| free|   Truck Drivin' Man|     1550|\n",
      "|   123|           Home|1541727824000| free|                NULL|     1550|\n",
      "|   123|       NextSong|1541728131000| free|         Hotel Yorba|     1550|\n",
      "+------+---------------+-------------+-----+--------------------+---------+\n",
      "only showing top 100 rows\n",
      "\n"
     ]
    }
   ],
   "source": [
    "df.select([\"userId\", \"page\", \"ts\", \"level\", \"song\", \"sessionId\"]).where(df.userId == \"123\").sort(\"ts\").show(100)"
   ]
  },
  {
   "cell_type": "markdown",
   "metadata": {},
   "source": [
    "Observations:\n",
    "\n",
    "1- Page Activity:\n",
    "\n",
    "- The user interacts with various pages such as NextSong, Add to Playlist, Logout, and Home.\n",
    "  Significant time is spent playing songs (NextSong events).\n",
    "\n",
    "2- Subscription Level:\n",
    "\n",
    "- The user is on a free subscription plan.\n",
    "\n",
    "3- Session Distribution:\n",
    "\n",
    "- All activities are associated with sessionId = 243, except for the last entry (sessionId = 1550), indicating separate listening sessions.\n",
    "  Songs Played:\n",
    "\n",
    "4- Songs like \"Hammerhart\", \"Catch You Baby\", and \"Hollywood\" were played."
   ]
  },
  {
   "cell_type": "code",
   "execution_count": 14,
   "metadata": {},
   "outputs": [
    {
     "name": "stdout",
     "output_type": "stream",
     "text": [
      "+---------------+-----+\n",
      "|           page|count|\n",
      "+---------------+-----+\n",
      "|           Home|    6|\n",
      "|    Roll Advert|   14|\n",
      "|         Logout|    4|\n",
      "|Add to Playlist|    8|\n",
      "|       NextSong|  150|\n",
      "|    Thumbs Down|    1|\n",
      "|       Settings|    1|\n",
      "|     Add Friend|    5|\n",
      "|      Thumbs Up|    5|\n",
      "|           Help|    1|\n",
      "|        Upgrade|    1|\n",
      "+---------------+-----+\n",
      "\n"
     ]
    }
   ],
   "source": [
    "# Summarize the user's activity by page type:\n",
    "\n",
    "df.filter(df.userId == \"123\").groupBy(\"page\").count().show()"
   ]
  },
  {
   "cell_type": "code",
   "execution_count": 15,
   "metadata": {},
   "outputs": [
    {
     "name": "stdout",
     "output_type": "stream",
     "text": [
      "+---------+----------------+\n",
      "|sessionId|session_duration|\n",
      "+---------+----------------+\n",
      "|      243|         4130000|\n",
      "|     1550|         2800000|\n",
      "|     1531|         8109000|\n",
      "|     1318|         2491000|\n",
      "|     1942|         1910000|\n",
      "|     1750|         2570000|\n",
      "|     1901|         4362000|\n",
      "|     2085|         6910000|\n",
      "+---------+----------------+\n",
      "\n"
     ]
    }
   ],
   "source": [
    "# Calculate the duration of each session for the user:\n",
    "\n",
    "df.filter(df.userId == \"123\") \\\n",
    "  .groupBy(\"sessionId\") \\\n",
    "  .agg((max(\"ts\") - min(\"ts\")).alias(\"session_duration\")) \\\n",
    "  .show()"
   ]
  },
  {
   "cell_type": "markdown",
   "metadata": {},
   "source": [
    "\n",
    "Add churn column"
   ]
  },
  {
   "cell_type": "code",
   "execution_count": 16,
   "metadata": {},
   "outputs": [],
   "source": [
    "churn_users = df.filter(df.page==\"Cancellation Confirmation\").select(\"userId\").dropDuplicates()\n",
    "churn_users_list = [(row['userId']) for row in churn_users.collect()]\n",
    "df_withchurn = df.withColumn(\"churn\", df.userId.isin(churn_users_list))"
   ]
  },
  {
   "cell_type": "code",
   "execution_count": 17,
   "metadata": {},
   "outputs": [
    {
     "name": "stdout",
     "output_type": "stream",
     "text": [
      "+-----+------+-----+\n",
      "|churn|gender|count|\n",
      "+-----+------+-----+\n",
      "|false|     M|   89|\n",
      "|false|     F|   84|\n",
      "| true|     F|   20|\n",
      "| true|     M|   32|\n",
      "+-----+------+-----+\n",
      "\n"
     ]
    }
   ],
   "source": [
    "# Select and display specific columns for userId 123, sorted by timestamp\n",
    "df_withchurn.dropDuplicates([\"userId\", \"gender\"]).groupby([\"churn\", \"gender\"]).count().sort(\"churn\").show()"
   ]
  },
  {
   "cell_type": "code",
   "execution_count": 18,
   "metadata": {},
   "outputs": [
    {
     "data": {
      "image/png": "[encoded data removed]",
      "text/plain": [
       "<Figure size 640x480 with 1 Axes>"
      ]
     },
     "metadata": {},
     "output_type": "display_data"
    }
   ],
   "source": [
    "# Create a barplot for churn vs gender\n",
    "df_pd = df_withchurn.dropDuplicates([\"userId\", \"gender\"]).groupby([\"churn\", \"gender\"]).count().sort(\"churn\").toPandas()\n",
    "sns.barplot(x='churn', y='count', hue='gender', data=df_pd)\n",
    "plt.show()"
   ]
  },
  {
   "cell_type": "markdown",
   "metadata": {},
   "source": [
    "Show the page use distribution between churn and normal users"
   ]
  },
  {
   "cell_type": "code",
   "execution_count": 19,
   "metadata": {},
   "outputs": [],
   "source": [
    "churn_count = df_withchurn.filter(df_withchurn.churn==1).count()\n",
    "no_churn_count = df_withchurn.filter(df_withchurn.churn==0).count()\n",
    "\n",
    "df_temp1 = df_withchurn.filter(df_withchurn.churn==1).filter(df_withchurn.page!=\"NextSong\").groupby([\"page\"]).count()\n",
    "df_temp1 = df_temp1.withColumn(\"cFreq\", df_temp1[\"count\"]/(churn_count/100)).sort(\"page\")\n",
    "\n",
    "df_temp2 = df_withchurn.filter(df_withchurn.churn==0).filter(df_withchurn.page!=\"NextSong\").groupby([\"page\"]).count()\n",
    "df_temp2 = df_temp2.withColumn(\"ncFreq\", df_temp2[\"count\"]/(no_churn_count/100)).sort(\"page\")"
   ]
  },
  {
   "cell_type": "code",
   "execution_count": 20,
   "metadata": {},
   "outputs": [
    {
     "data": {
      "text/plain": [
       "<Axes: xlabel='page'>"
      ]
     },
     "execution_count": 20,
     "metadata": {},
     "output_type": "execute_result"
    },
    {
     "data": {
      "image/png": "[encoded data removed]",
      "text/plain": [
       "<Figure size 640x480 with 1 Axes>"
      ]
     },
     "metadata": {},
     "output_type": "display_data"
    }
   ],
   "source": [
    "df_pd = df_temp1.join(df_temp2, \"page\", \"outer\").drop(\"count\").fillna(0).toPandas()\n",
    "df_pd.plot.bar(\"page\")"
   ]
  },
  {
   "cell_type": "code",
   "execution_count": 21,
   "metadata": {},
   "outputs": [
    {
     "data": {
      "image/png": "[encoded data removed]",
      "text/plain": [
       "<Figure size 640x480 with 1 Axes>"
      ]
     },
     "metadata": {},
     "output_type": "display_data"
    }
   ],
   "source": [
    "# Show the subscription level at churn events\n",
    "df_churn_level = df_withchurn.filter(df_withchurn.page == \"Cancellation Confirmation\").select(\"userId\", \"level\").dropDuplicates()\n",
    "df_churn_level_pd = df_churn_level.groupby(\"level\").count().toPandas()\n",
    "sns.barplot(x='level', y='count', data=df_churn_level_pd)\n",
    "plt.title(\"Subscription Level at Churn Events\")\n",
    "plt.xlabel(\"Subscription Level\")\n",
    "plt.ylabel(\"Count\")\n",
    "plt.show()"
   ]
  },
  {
   "cell_type": "code",
   "execution_count": 22,
   "metadata": {},
   "outputs": [
    {
     "name": "stdout",
     "output_type": "stream",
     "text": [
      "Time Span of Log: 2018-10-01 04:01:57 to 2018-12-03 05:11:16\n"
     ]
    }
   ],
   "source": [
    "# Show the time span of the log\n",
    "time_span = df.select(min(\"ts\").alias(\"start_time\"), max(\"ts\").alias(\"end_time\")).collect()\n",
    "start_time = datetime.datetime.fromtimestamp(time_span[0]['start_time'] / 1000.0).strftime(\"%Y-%m-%d %H:%M:%S\")\n",
    "end_time = datetime.datetime.fromtimestamp(time_span[0]['end_time'] / 1000.0).strftime(\"%Y-%m-%d %H:%M:%S\")\n",
    "print(f\"Time Span of Log: {start_time} to {end_time}\")"
   ]
  },
  {
   "cell_type": "code",
   "execution_count": 23,
   "metadata": {},
   "outputs": [
    {
     "data": {
      "text/plain": [
       "<Axes: xlabel='count', ylabel='churn'>"
      ]
     },
     "execution_count": 23,
     "metadata": {},
     "output_type": "execute_result"
    },
    {
     "data": {
      "image/png": "[encoded data removed]",
      "text/plain": [
       "<Figure size 640x480 with 1 Axes>"
      ]
     },
     "metadata": {},
     "output_type": "display_data"
    }
   ],
   "source": [
    "# Show the distribution of operations in each session\n",
    "df_pd = df_withchurn.groupby(\"churn\", \"userId\", \"sessionId\").count().toPandas()\n",
    "sns.boxplot(x='count', y='churn', orient=\"h\", data=df_pd)"
   ]
  },
  {
   "cell_type": "markdown",
   "metadata": {},
   "source": [
    "# Feature Engineering\n",
    "Once you've familiarized yourself with the data, build out the features you find promising to train your model on. To work with the full dataset, you can follow the following steps.\n",
    "- Write a script to extract the necessary features from the smaller subset of data\n",
    "- Ensure that your script is scalable, using the best practices discussed in Lesson 3\n",
    "- Try your script on the full data set, debugging your script if necessary\n",
    "\n",
    "If you are working in the classroom workspace, you can just extract features based on the small subset of data contained here. Be sure to transfer over this work to the larger dataset when you work on your Spark cluster."
   ]
  },
  {
   "cell_type": "markdown",
   "metadata": {},
   "source": [
    "Feature#1: Number of days since registration"
   ]
  },
  {
   "cell_type": "code",
   "execution_count": 24,
   "metadata": {},
   "outputs": [],
   "source": [
    "user_max_ts = df_withchurn.groupby(\"userId\").max(\"ts\").sort(\"userId\")\n",
    "user_reg_ts = df_withchurn.select(\"userId\", \"registration\").dropDuplicates().sort(\"userId\")\n",
    "user_reg_days = user_reg_ts.join(user_max_ts, user_reg_ts.userId == user_max_ts.userId).select(user_reg_ts[\"userId\"], ((user_max_ts[\"max(ts)\"]-user_reg_ts[\"registration\"])/(1000*60*60*24)).alias(\"regDay\"))"
   ]
  },
  {
   "cell_type": "code",
   "execution_count": 25,
   "metadata": {},
   "outputs": [
    {
     "name": "stdout",
     "output_type": "stream",
     "text": [
      "+------+------------------+\n",
      "|userId|            regDay|\n",
      "+------+------------------+\n",
      "|    51|19.455844907407407|\n",
      "|   124|131.55591435185184|\n",
      "|     7| 72.77818287037037|\n",
      "|    54|110.75168981481481|\n",
      "|    15|56.513576388888886|\n",
      "|   132|  66.8891087962963|\n",
      "|   101|        53.9659375|\n",
      "|    11|124.47825231481481|\n",
      "|   138| 66.62668981481481|\n",
      "|    29|60.104050925925925|\n",
      "+------+------------------+\n",
      "only showing top 10 rows\n",
      "\n"
     ]
    }
   ],
   "source": [
    "user_reg_days.show(10)"
   ]
  },
  {
   "cell_type": "markdown",
   "metadata": {},
   "source": [
    "Feature#2: Avg, min, max, time/session"
   ]
  },
  {
   "cell_type": "code",
   "execution_count": 26,
   "metadata": {},
   "outputs": [],
   "source": [
    "user_session_time = df_withchurn.groupby(\"userId\", \"sessionId\").agg(((max(df_withchurn.ts)-min(df_withchurn.ts))/(1000*60)).alias(\"sessionTime\"))\n",
    "user_session_time_stat = user_session_time.groupby(\"userId\").agg(avg(user_session_time.sessionTime).alias(\"avgSessionTime\"), min(user_session_time.sessionTime).alias(\"minSessionTime\"), max(user_session_time.sessionTime).alias(\"maxSessionTime\")).sort(\"userId\")"
   ]
  },
  {
   "cell_type": "code",
   "execution_count": 27,
   "metadata": {},
   "outputs": [
    {
     "name": "stdout",
     "output_type": "stream",
     "text": [
      "+------+------------------+-----------------+------------------+\n",
      "|userId|    avgSessionTime|   minSessionTime|    maxSessionTime|\n",
      "+------+------------------+-----------------+------------------+\n",
      "|    10|459.74722222222226|91.41666666666667|1547.9166666666667|\n",
      "|   100| 316.5190476190476|              0.0|1019.5833333333334|\n",
      "|100001|148.15833333333333|             63.0|215.28333333333333|\n",
      "|100002|201.18333333333334|              0.0| 730.4666666666667|\n",
      "|100003| 99.11666666666667|3.216666666666667|195.01666666666668|\n",
      "|100004|185.98650793650793|              0.0| 940.2166666666667|\n",
      "|100005|120.18666666666668|              0.0|209.21666666666667|\n",
      "|100006| 93.43333333333334|93.43333333333334| 93.43333333333334|\n",
      "|100007|189.41111111111113|              8.9| 675.6333333333333|\n",
      "|100008| 528.2527777777779|            57.05|            2024.4|\n",
      "+------+------------------+-----------------+------------------+\n",
      "only showing top 10 rows\n",
      "\n"
     ]
    }
   ],
   "source": [
    "user_session_time_stat.show(10)"
   ]
  },
  {
   "cell_type": "markdown",
   "metadata": {},
   "source": [
    "Feature#3: Number of songs per seesion"
   ]
  },
  {
   "cell_type": "code",
   "execution_count": 28,
   "metadata": {},
   "outputs": [
    {
     "name": "stdout",
     "output_type": "stream",
     "text": [
      "+------+------------------+\n",
      "|userId|   avgSessionSongs|\n",
      "+------+------------------+\n",
      "|    10|112.16666666666667|\n",
      "|   100| 78.88235294117646|\n",
      "|100001|             33.25|\n",
      "|100002|             48.75|\n",
      "|100003|              25.5|\n",
      "|100004|              47.1|\n",
      "|100005|              38.5|\n",
      "|100006|              26.0|\n",
      "|100007|              47.0|\n",
      "|100008|128.66666666666666|\n",
      "+------+------------------+\n",
      "only showing top 10 rows\n",
      "\n"
     ]
    }
   ],
   "source": [
    "user_session_songs = df_withchurn.filter(df_withchurn.page==\"NextSong\").groupby(\"userId\", \"sessionId\").count()\n",
    "user_session_songs_avg = user_session_songs.groupby(\"userId\").agg(avg(user_session_songs[\"count\"]).alias(\"avgSessionSongs\")).sort(\"userId\")\n",
    "user_session_songs_avg.show(10)"
   ]
  },
  {
   "cell_type": "markdown",
   "metadata": {},
   "source": [
    "Feature#4: Number of Sessions"
   ]
  },
  {
   "cell_type": "code",
   "execution_count": 29,
   "metadata": {},
   "outputs": [],
   "source": [
    "user_session_count = df_withchurn.select(\"userId\", \"sessionId\").dropDuplicates().groupby(\"userId\").count()\n",
    "user_session_count = user_session_count.withColumnRenamed(\"count\", \"sessionCount\")"
   ]
  },
  {
   "cell_type": "code",
   "execution_count": 30,
   "metadata": {},
   "outputs": [
    {
     "name": "stdout",
     "output_type": "stream",
     "text": [
      "+------+------------+\n",
      "|userId|sessionCount|\n",
      "+------+------------+\n",
      "|100010|           7|\n",
      "|200002|           6|\n",
      "|   125|           1|\n",
      "|    51|          10|\n",
      "|   124|          29|\n",
      "|     7|           7|\n",
      "|    15|          15|\n",
      "|    54|          37|\n",
      "|   155|           6|\n",
      "|   132|          16|\n",
      "+------+------------+\n",
      "only showing top 10 rows\n",
      "\n"
     ]
    }
   ],
   "source": [
    "user_session_count.show(10)"
   ]
  },
  {
   "cell_type": "markdown",
   "metadata": {},
   "source": [
    "Feature#5: Gender "
   ]
  },
  {
   "cell_type": "code",
   "execution_count": 31,
   "metadata": {},
   "outputs": [],
   "source": [
    "user_gender = df_withchurn.select(\"userId\", \"gender\").dropDuplicates()\n",
    "user_gender = user_gender.replace([\"M\", \"F\"], [\"0\", \"1\"], \"gender\")\n",
    "user_gender = user_gender.select(\"userId\", user_gender.gender.cast(\"int\"))"
   ]
  },
  {
   "cell_type": "code",
   "execution_count": 32,
   "metadata": {},
   "outputs": [
    {
     "name": "stdout",
     "output_type": "stream",
     "text": [
      "+------+------+\n",
      "|userId|gender|\n",
      "+------+------+\n",
      "|    44|     1|\n",
      "|    46|     1|\n",
      "|    41|     1|\n",
      "|    39|     1|\n",
      "|    40|     1|\n",
      "|    94|     1|\n",
      "|    35|     1|\n",
      "|    75|     1|\n",
      "|   100|     0|\n",
      "|    25|     1|\n",
      "+------+------+\n",
      "only showing top 10 rows\n",
      "\n"
     ]
    }
   ],
   "source": [
    "user_gender.show(10)"
   ]
  },
  {
   "cell_type": "markdown",
   "metadata": {},
   "source": [
    "Feature#6: If user still paied?"
   ]
  },
  {
   "cell_type": "code",
   "execution_count": 33,
   "metadata": {},
   "outputs": [],
   "source": [
    "# Step 1: Group by userId and level to find the latest timestamp for each level\n",
    "user_paid = df_withchurn.groupby(\"userId\", \"level\").agg(max(df_withchurn.ts).alias(\"finalTime\")).sort(\"userId\")\n",
    "\n",
    "# Step 2: Group by userId to find the most recent timestamp overall\n",
    "user_recent_level_time = user_paid.groupby(\"userId\").agg(max(user_paid.finalTime).alias(\"recent\"))\n",
    "\n",
    "# Step 3: Join to get the corresponding level for the most recent timestamp\n",
    "user_recent_level = user_recent_level_time.alias(\"recent_time\") \\\n",
    "    .join(user_paid.alias(\"paid\"), \n",
    "          (col(\"recent_time.userId\") == col(\"paid.userId\")) & \n",
    "          (col(\"recent_time.recent\") == col(\"paid.finalTime\"))) \\\n",
    "    .select(col(\"paid.userId\"), col(\"paid.level\")).sort(\"userId\")\n",
    "\n",
    "# Step 4: Replace level strings (\"free\" -> 0, \"paid\" -> 1) and cast to integer\n",
    "user_recent_level = user_recent_level.replace([\"free\", \"paid\"], [\"0\", \"1\"], \"level\")\n",
    "user_recent_level = user_recent_level.select(\"userId\", user_recent_level.level.cast(\"int\"))\n",
    "\n"
   ]
  },
  {
   "cell_type": "code",
   "execution_count": 34,
   "metadata": {},
   "outputs": [
    {
     "name": "stdout",
     "output_type": "stream",
     "text": [
      "+------+-----+\n",
      "|userId|level|\n",
      "+------+-----+\n",
      "|    10|    1|\n",
      "|   100|    1|\n",
      "|100001|    0|\n",
      "|100002|    1|\n",
      "|100003|    0|\n",
      "|100004|    1|\n",
      "|100005|    0|\n",
      "|100006|    0|\n",
      "|100007|    1|\n",
      "|100008|    0|\n",
      "|100009|    0|\n",
      "|100010|    0|\n",
      "|100011|    0|\n",
      "|100012|    0|\n",
      "|100013|    1|\n",
      "|100014|    1|\n",
      "|100015|    1|\n",
      "|100016|    0|\n",
      "|100017|    0|\n",
      "|100018|    0|\n",
      "+------+-----+\n",
      "only showing top 20 rows\n",
      "\n"
     ]
    }
   ],
   "source": [
    "# Show the results\n",
    "user_recent_level.show()"
   ]
  },
  {
   "cell_type": "markdown",
   "metadata": {},
   "source": [
    "Feature#7: Pages use frequency"
   ]
  },
  {
   "cell_type": "code",
   "execution_count": 35,
   "metadata": {},
   "outputs": [],
   "source": [
    "# Calculate the total page views for each user\n",
    "page_list = [(row['page']) for row in df_withchurn.select(\"page\").dropDuplicates().collect()]\n",
    "\n",
    "# Remove columns that could cause data leakage\n",
    "page_list.remove(\"Cancel\")\n",
    "page_list.remove(\"Cancellation Confirmation\")\n",
    "\n",
    "# Calculate the total pages each user views\n",
    "user_page_view_count = df_withchurn.groupby(\"userId\").count()\n",
    "user_page_view_count = user_page_view_count.withColumnRenamed(\"count\", \"pageCount\")\n",
    "\n",
    "for page in page_list:\n",
    "    col_name = \"count\" + page.replace(\" \", \"\")\n",
    "    view_count = df_withchurn.filter(df_withchurn.page==page).groupby(\"userId\").count()\n",
    "    view_count = view_count.withColumnRenamed(\"count\", col_name).withColumnRenamed(\"userId\", \"userIdTemp\")\n",
    "    user_page_view_count = user_page_view_count.join(view_count, user_page_view_count.userId==view_count.userIdTemp, \"left\").drop(\"userIdTemp\")\n",
    "user_page_view_count = user_page_view_count.sort(\"userId\")\n",
    "user_page_view_count = user_page_view_count.fillna(0)"
   ]
  },
  {
   "cell_type": "code",
   "execution_count": 36,
   "metadata": {},
   "outputs": [
    {
     "name": "stdout",
     "output_type": "stream",
     "text": [
      "+------+--------------------+------------------+------------------+------------------+-------------------+------------------+-------------------+-------------------+-------------------+------------------+------------------+-----------------+------------------+-------------------+--------------------+-------------------+--------------------+\n",
      "|userId| freqSubmitDowngrade|    freqThumbsDown|          freqHome|     freqDowngrade|     freqRollAdvert|        freqLogout|   freqSaveSettings|          freqAbout|       freqSettings| freqAddtoPlaylist|     freqAddFriend|     freqNextSong|      freqThumbsUp|           freqHelp|         freqUpgrade|          freqError|   freqSubmitUpgrade|\n",
      "+------+--------------------+------------------+------------------+------------------+-------------------+------------------+-------------------+-------------------+-------------------+------------------+------------------+-----------------+------------------+-------------------+--------------------+-------------------+--------------------+\n",
      "|    10|                 0.0|0.5031446540880503|3.7735849056603774|0.8805031446540881|0.12578616352201258|1.3836477987421383|0.12578616352201258|0.25157232704402516| 0.8805031446540881|1.1320754716981132|1.5094339622641508|84.65408805031447| 4.654088050314465|0.12578616352201258|                 0.0|                0.0|                 0.0|\n",
      "|   100|0.031113876789047916|0.8400746733042938| 3.266957062850031|0.9334163036714375| 0.7778469197261979| 1.088985687616677| 0.1555693839452396|0.37336652146857496|0.34225264467952704| 1.897946484131923|1.5245799626633478|83.44741754822651| 4.604853764779091| 0.5600497822028625|0.031113876789047916|0.09334163036714374|0.031113876789047916|\n",
      "|100001|                 0.0|  1.06951871657754|  5.88235294117647|               0.0| 7.4866310160427805|3.7433155080213902|                0.0|                0.0|   0.53475935828877|1.6042780748663101|  1.06951871657754|71.12299465240642|  4.27807486631016|   0.53475935828877|    1.06951871657754|   0.53475935828877|                 0.0|\n",
      "|100002|                 0.0|               0.0|2.7522935779816513|0.9174311926605504| 1.3761467889908257|0.4587155963302752|                0.0|                0.0|                0.0| 2.293577981651376|0.4587155963302752|89.44954128440367| 2.293577981651376|                0.0|                 0.0|                0.0|                 0.0|\n",
      "|100003|                 0.0|               0.0| 8.974358974358974|               0.0| 11.538461538461538| 3.846153846153846|                0.0|                0.0|                0.0| 2.564102564102564|               0.0|65.38461538461539| 3.846153846153846|  1.282051282051282|                 0.0|                0.0|                 0.0|\n",
      "|100004|  0.1606425702811245|0.8835341365461847| 5.301204819277109|0.8032128514056225|  6.907630522088354|1.5261044176706828| 0.1606425702811245|                0.0| 0.8835341365461847|1.8473895582329318|1.5261044176706828|75.66265060240964| 2.811244979919679|0.48192771084337355|   0.642570281124498| 0.1606425702811245| 0.24096385542168677|\n",
      "|100005|                 0.0|1.3888888888888888| 6.944444444444444|               0.0|  8.333333333333332|1.3888888888888888|                0.0|                0.0| 0.9259259259259258|1.3888888888888888|1.3888888888888888|71.29629629629629|3.2407407407407405| 0.9259259259259258|  1.8518518518518516|                0.0|                 0.0|\n",
      "|100006|                 0.0| 4.545454545454546| 4.545454545454546|               0.0|  6.818181818181818| 2.272727272727273|                0.0|                0.0|  2.272727272727273| 2.272727272727273| 9.090909090909092|59.09090909090909| 4.545454545454546|                0.0|                 0.0|                0.0|                 0.0|\n",
      "|100007|                 0.0|1.1538461538461537| 3.846153846153846| 1.346153846153846| 0.9615384615384615|0.9615384615384615| 0.1923076923076923|                0.0| 0.5769230769230769|1.7307692307692306| 3.269230769230769|81.34615384615384|3.6538461538461537| 0.5769230769230769|                 0.0|                0.0|                 0.0|\n",
      "|100008| 0.10638297872340426|0.6382978723404255| 2.553191489361702|1.0638297872340425|  2.127659574468085|0.7446808510638298|                0.0| 0.3191489361702127| 0.3191489361702127|3.1914893617021276|1.8085106382978722|82.12765957446808|3.9361702127659575| 0.6382978723404255|   0.425531914893617|                0.0|                 0.0|\n",
      "+------+--------------------+------------------+------------------+------------------+-------------------+------------------+-------------------+-------------------+-------------------+------------------+------------------+-----------------+------------------+-------------------+--------------------+-------------------+--------------------+\n",
      "only showing top 10 rows\n",
      "\n"
     ]
    }
   ],
   "source": [
    "# Calculate page view frequencies\n",
    "col_list = user_page_view_count.columns\n",
    "col_list.remove(\"userId\")\n",
    "col_list.remove(\"pageCount\")\n",
    "freq_sql = \"select userId\"\n",
    "for col in col_list:\n",
    "    col_name = col.replace(\"count\", \"freq\")\n",
    "    sql_str = \", (\" + col + \"/(pageCount/100)) as \" + col_name\n",
    "    freq_sql = freq_sql + sql_str\n",
    "freq_sql = freq_sql + \" from user_page_view_count\"\n",
    "\n",
    "user_page_view_count.createOrReplaceTempView(\"user_page_view_count\")\n",
    "user_page_view_freq = spark.sql(freq_sql)\n",
    "\n",
    "# Display the page view frequencies\n",
    "user_page_view_freq.show(10)"
   ]
  },
  {
   "cell_type": "markdown",
   "metadata": {},
   "source": [
    "Feature#8: Number of singers dose the user listen."
   ]
  },
  {
   "cell_type": "code",
   "execution_count": 37,
   "metadata": {},
   "outputs": [
    {
     "name": "stdout",
     "output_type": "stream",
     "text": [
      "+------+-----------+\n",
      "|userId|artistCount|\n",
      "+------+-----------+\n",
      "|100010|        252|\n",
      "|200002|        339|\n",
      "|   125|          8|\n",
      "|    51|       1385|\n",
      "|   124|       2232|\n",
      "|     7|        142|\n",
      "|    15|       1302|\n",
      "|    54|       1744|\n",
      "|   155|        643|\n",
      "|   132|       1299|\n",
      "+------+-----------+\n",
      "only showing top 10 rows\n",
      "\n"
     ]
    }
   ],
   "source": [
    "# Calculate artist count per user\n",
    "user_artist_count = df_withchurn.filter(df_withchurn.page==\"NextSong\").select(\"userId\", \"artist\").dropDuplicates().groupby(\"userId\").count()\n",
    "user_artist_count = user_artist_count.withColumnRenamed(\"count\", \"artistCount\")\n",
    "\n",
    "# Display artist count\n",
    "user_artist_count.show(10)"
   ]
  },
  {
   "cell_type": "code",
   "execution_count": 38,
   "metadata": {},
   "outputs": [
    {
     "name": "stdout",
     "output_type": "stream",
     "text": [
      "+------+-----+\n",
      "|userId|churn|\n",
      "+------+-----+\n",
      "|    19|    0|\n",
      "|    50|    0|\n",
      "|    30|    0|\n",
      "|     8|    0|\n",
      "|     4|    0|\n",
      "|    65|    0|\n",
      "|   101|    1|\n",
      "|    13|    0|\n",
      "|    42|    0|\n",
      "|    94|    0|\n",
      "+------+-----+\n",
      "only showing top 10 rows\n",
      "\n"
     ]
    }
   ],
   "source": [
    "# Add user churn data\n",
    "# Define churn status for each user\n",
    "user_churn = df_withchurn.select(\"userId\", \"churn\").dropDuplicates()\n",
    "user_churn = user_churn.select(\"userId\", user_churn.churn.cast(\"int\"))\n",
    "\n",
    "# Display user churn information\n",
    "user_churn.show(10)\n"
   ]
  },
  {
   "cell_type": "code",
   "execution_count": 39,
   "metadata": {},
   "outputs": [],
   "source": [
    "# put all the features dataframe into a list\n",
    "features_list = []\n",
    "features_list.append(user_reg_days)\n",
    "features_list.append(user_session_time_stat)\n",
    "features_list.append(user_session_songs_avg)\n",
    "features_list.append(user_session_count)\n",
    "features_list.append(user_gender)\n",
    "features_list.append(user_recent_level)\n",
    "features_list.append(user_page_view_freq)\n",
    "features_list.append(user_artist_count)\n",
    "features_list.append(user_churn)"
   ]
  },
  {
   "cell_type": "code",
   "execution_count": 40,
   "metadata": {},
   "outputs": [],
   "source": [
    "# prepare the final dataframe to join all the other features\n",
    "df_final = df_withchurn.select(\"userId\").dropDuplicates()"
   ]
  },
  {
   "cell_type": "code",
   "execution_count": 41,
   "metadata": {},
   "outputs": [],
   "source": [
    "def features_merge(df1, df2):\n",
    "    \"\"\"\n",
    "    This function is used to merge the feature using left join\n",
    "    input: two data frame to be merged\n",
    "    output: merged dataframe\n",
    "    \"\"\"\n",
    "    df2 = df2.withColumnRenamed(\"userId\", \"userIdTemp\")\n",
    "    df = df1.join(df2, df1.userId == df2.userIdTemp, \"left\").drop(\"userIdTemp\")\n",
    "    return df"
   ]
  },
  {
   "cell_type": "code",
   "execution_count": 42,
   "metadata": {},
   "outputs": [],
   "source": [
    "# use function to merge the features in the list\n",
    "for feature in features_list:\n",
    "    df_final = features_merge(df_final, feature)"
   ]
  },
  {
   "cell_type": "code",
   "execution_count": 43,
   "metadata": {},
   "outputs": [
    {
     "name": "stdout",
     "output_type": "stream",
     "text": [
      "+------+------------------+------------------+-----------------+------------------+------------------+------------+------+-----+--------------------+------------------+------------------+------------------+-------------------+------------------+-------------------+-------------------+-------------------+------------------+------------------+-----------------+------------------+-------------------+--------------------+-------------------+--------------------+-----------+-----+\n",
      "|userId|            regDay|    avgSessionTime|   minSessionTime|    maxSessionTime|   avgSessionSongs|sessionCount|gender|level| freqSubmitDowngrade|    freqThumbsDown|          freqHome|     freqDowngrade|     freqRollAdvert|        freqLogout|   freqSaveSettings|          freqAbout|       freqSettings| freqAddtoPlaylist|     freqAddFriend|     freqNextSong|      freqThumbsUp|           freqHelp|         freqUpgrade|          freqError|   freqSubmitUpgrade|artistCount|churn|\n",
      "+------+------------------+------------------+-----------------+------------------+------------------+------------+------+-----+--------------------+------------------+------------------+------------------+-------------------+------------------+-------------------+-------------------+-------------------+------------------+------------------+-----------------+------------------+-------------------+--------------------+-------------------+--------------------+-----------+-----+\n",
      "|    10| 51.76265046296297|459.74722222222226|91.41666666666667|1547.9166666666667|112.16666666666667|           6|     0|    1|                 0.0|0.5031446540880503|3.7735849056603774|0.8805031446540881|0.12578616352201258|1.3836477987421383|0.12578616352201258|0.25157232704402516| 0.8805031446540881|1.1320754716981132|1.5094339622641508|84.65408805031447| 4.654088050314465|0.12578616352201258|                 0.0|                0.0|                 0.0|        565|    0|\n",
      "|   100| 64.87377314814815| 316.5190476190476|              0.0|1019.5833333333334| 78.88235294117646|          35|     0|    1|0.031113876789047916|0.8400746733042938| 3.266957062850031|0.9334163036714375| 0.7778469197261979| 1.088985687616677| 0.1555693839452396|0.37336652146857496|0.34225264467952704| 1.897946484131923|1.5245799626633478|83.44741754822651| 4.604853764779091| 0.5600497822028625|0.031113876789047916|0.09334163036714374|0.031113876789047916|       1705|    0|\n",
      "|100001| 44.80021990740741|148.15833333333333|             63.0|215.28333333333333|             33.25|           4|     1|    0|                 0.0|  1.06951871657754|  5.88235294117647|               0.0| 7.4866310160427805|3.7433155080213902|                0.0|                0.0|   0.53475935828877|1.6042780748663101|  1.06951871657754|71.12299465240642|  4.27807486631016|   0.53475935828877|    1.06951871657754|   0.53475935828877|                 0.0|        125|    1|\n",
      "|100002|160.47207175925925|201.18333333333334|              0.0| 730.4666666666667|             48.75|           4|     1|    1|                 0.0|               0.0|2.7522935779816513|0.9174311926605504| 1.3761467889908257|0.4587155963302752|                0.0|                0.0|                0.0| 2.293577981651376|0.4587155963302752|89.44954128440367| 2.293577981651376|                0.0|                 0.0|                0.0|                 0.0|        184|    0|\n",
      "|100003|22.748113425925926| 99.11666666666667|3.216666666666667|195.01666666666668|              25.5|           2|     1|    0|                 0.0|               0.0| 8.974358974358974|               0.0| 11.538461538461538| 3.846153846153846|                0.0|                0.0|                0.0| 2.564102564102564|               0.0|65.38461538461539| 3.846153846153846|  1.282051282051282|                 0.0|                0.0|                 0.0|         50|    1|\n",
      "|100004|172.44008101851853|185.98650793650793|              0.0| 940.2166666666667|              47.1|          21|     1|    1|  0.1606425702811245|0.8835341365461847| 5.301204819277109|0.8032128514056225|  6.907630522088354|1.5261044176706828| 0.1606425702811245|                0.0| 0.8835341365461847|1.8473895582329318|1.5261044176706828|75.66265060240964| 2.811244979919679|0.48192771084337355|   0.642570281124498| 0.1606425702811245| 0.24096385542168677|        733|    0|\n",
      "|100005| 85.19559027777778|120.18666666666668|              0.0|209.21666666666667|              38.5|           5|     0|    0|                 0.0|1.3888888888888888| 6.944444444444444|               0.0|  8.333333333333332|1.3888888888888888|                0.0|                0.0| 0.9259259259259258|1.3888888888888888|1.3888888888888888|71.29629629629629|3.2407407407407405| 0.9259259259259258|  1.8518518518518516|                0.0|                 0.0|        149|    1|\n",
      "|100006| 9.127164351851851| 93.43333333333334|93.43333333333334| 93.43333333333334|              26.0|           1|     1|    0|                 0.0| 4.545454545454546| 4.545454545454546|               0.0|  6.818181818181818| 2.272727272727273|                0.0|                0.0|  2.272727272727273| 2.272727272727273| 9.090909090909092|59.09090909090909| 4.545454545454546|                0.0|                 0.0|                0.0|                 0.0|         26|    1|\n",
      "|100007|115.38761574074074|189.41111111111113|              8.9| 675.6333333333333|              47.0|           9|     1|    1|                 0.0|1.1538461538461537| 3.846153846153846| 1.346153846153846| 0.9615384615384615|0.9615384615384615| 0.1923076923076923|                0.0| 0.5769230769230769|1.7307692307692306| 3.269230769230769|81.34615384615384|3.6538461538461537| 0.5769230769230769|                 0.0|                0.0|                 0.0|        357|    1|\n",
      "|100008| 68.22856481481482| 528.2527777777779|            57.05|            2024.4|128.66666666666666|           6|     1|    0| 0.10638297872340426|0.6382978723404255| 2.553191489361702|1.0638297872340425|  2.127659574468085|0.7446808510638298|                0.0| 0.3191489361702127| 0.3191489361702127|3.1914893617021276|1.8085106382978722|82.12765957446808|3.9361702127659575| 0.6382978723404255|   0.425531914893617|                0.0|                 0.0|        623|    0|\n",
      "+------+------------------+------------------+-----------------+------------------+------------------+------------+------+-----+--------------------+------------------+------------------+------------------+-------------------+------------------+-------------------+-------------------+-------------------+------------------+------------------+-----------------+------------------+-------------------+--------------------+-------------------+--------------------+-----------+-----+\n",
      "only showing top 10 rows\n",
      "\n"
     ]
    }
   ],
   "source": [
    "# sort and view the final dataframe\n",
    "df_final = df_final.sort(\"userId\")\n",
    "df_final.persist()\n",
    "df_final.show(10)"
   ]
  },
  {
   "cell_type": "markdown",
   "metadata": {},
   "source": [
    "# Modeling\n",
    "Split the full dataset into train, test, and validation sets. Test out several of the machine learning methods you learned. Evaluate the accuracy of the various models, tuning parameters as necessary. Determine your winning model based on test accuracy and report results on the validation set. Since the churned users are a fairly small subset, I suggest using F1 score as the metric to optimize."
   ]
  },
  {
   "cell_type": "markdown",
   "metadata": {},
   "source": [
    "1. Prepare the Dataset for Modeling\n",
    "\n",
    "- We need to combine all features into a single DataFrame for modeling. This includes:\n",
    "\n",
    "- Joining the features_list DataFrames on userId.\n",
    "- Converting Spark DataFrame into a feature vector for machine learning."
   ]
  },
  {
   "cell_type": "code",
   "execution_count": 91,
   "metadata": {},
   "outputs": [],
   "source": [
    "# Combine all features into a single DataFrame\n",
    "from functools import reduce\n",
    "\n",
    "final_features = reduce(lambda left, right: left.join(right, \"userId\", \"outer\"), features_list)\n",
    "\n",
    "# Fill missing values with 0\n",
    "final_features = final_features.fillna(0)\n",
    "\n",
    "# Convert features into a feature vector\n",
    "from pyspark.ml.feature import VectorAssembler\n",
    "\n",
    "feature_columns = [col for col in final_features.columns if col != \"userId\" and col != \"churn\"]\n",
    "assembler = VectorAssembler(inputCols=feature_columns, outputCol=\"features\")\n",
    "final_features = assembler.transform(final_features)"
   ]
  },
  {
   "cell_type": "markdown",
   "metadata": {},
   "source": [
    "2. Split the Dataset\n",
    "\n",
    "- Split the dataset into training, validation, and test sets:"
   ]
  },
  {
   "cell_type": "code",
   "execution_count": 92,
   "metadata": {},
   "outputs": [],
   "source": [
    "train, test = final_features.randomSplit([0.8, 0.2], seed=42)\n",
    "train, validation = train.randomSplit([0.75, 0.25], seed=42)"
   ]
  },
  {
   "cell_type": "markdown",
   "metadata": {},
   "source": [
    "3. Train Machine Learning Models\n",
    "\n",
    "- Try several machine learning models such as Logistic Regression, Random Forest, and Gradient Boosted Trees."
   ]
  },
  {
   "cell_type": "markdown",
   "metadata": {},
   "source": [
    "Train Logic Regression Model"
   ]
  },
  {
   "cell_type": "code",
   "execution_count": 93,
   "metadata": {},
   "outputs": [
    {
     "name": "stdout",
     "output_type": "stream",
     "text": [
      "Logistic Regression F1 Score: 0.8742420534573238\n"
     ]
    }
   ],
   "source": [
    "\n",
    "# Initialize Logistic Regression\n",
    "lr = LogisticRegression(labelCol=\"churn\", featuresCol=\"features\", maxIter=20)\n",
    "\n",
    "# Train Logistic Regression\n",
    "lr = LogisticRegression(labelCol=\"churn\", featuresCol=\"features\", maxIter=20)\n",
    "lr_model = lr.fit(train)\n",
    "\n",
    "# Evaluate Logistic Regression\n",
    "lr_predictions = lr_model.transform(validation)\n",
    "evaluator = MulticlassClassificationEvaluator(labelCol=\"churn\", metricName=\"f1\")\n",
    "lr_f1_score = evaluator.evaluate(lr_predictions)\n",
    "print(f\"Logistic Regression F1 Score: {lr_f1_score}\")"
   ]
  },
  {
   "cell_type": "markdown",
   "metadata": {},
   "source": [
    "4. Compare Models\n",
    "\n",
    "- Train and evaluate other models"
   ]
  },
  {
   "cell_type": "markdown",
   "metadata": {},
   "source": [
    "Train Random Fores Model"
   ]
  },
  {
   "cell_type": "code",
   "execution_count": 94,
   "metadata": {},
   "outputs": [
    {
     "name": "stdout",
     "output_type": "stream",
     "text": [
      "Random Forest F1 Score: 0.7914053426248548\n"
     ]
    }
   ],
   "source": [
    "# RandomFores Classifier\n",
    "\n",
    "# Random Forest\n",
    "rf = RandomForestClassifier(labelCol=\"churn\", featuresCol=\"features\", numTrees=100)\n",
    "rf_model = rf.fit(train)\n",
    "rf_predictions = rf_model.transform(validation)\n",
    "\n",
    "# Evaluate Random Forest\n",
    "rf_f1_score = evaluator.evaluate(rf_predictions)\n",
    "print(f\"Random Forest F1 Score: {rf_f1_score}\")"
   ]
  },
  {
   "cell_type": "markdown",
   "metadata": {},
   "source": [
    "Train Gradient Boosted Trees Model"
   ]
  },
  {
   "cell_type": "code",
   "execution_count": 95,
   "metadata": {},
   "outputs": [
    {
     "name": "stdout",
     "output_type": "stream",
     "text": [
      "Gradient Boosted Trees F1 Score: 0.7563624508425536\n"
     ]
    }
   ],
   "source": [
    "# Gradient Boosted Trees\n",
    "gbt = GBTClassifier(labelCol=\"churn\", featuresCol=\"features\", maxIter=50)\n",
    "gbt_model = gbt.fit(train)\n",
    "gbt_predictions = gbt_model.transform(validation)\n",
    "\n",
    "# Evaluate Gradient Boosted Trees\n",
    "gbt_f1_score = evaluator.evaluate(gbt_predictions)\n",
    "print(f\"Gradient Boosted Trees F1 Score: {gbt_f1_score}\")"
   ]
  },
  {
   "cell_type": "markdown",
   "metadata": {},
   "source": [
    "Train Decision Tree"
   ]
  },
  {
   "cell_type": "code",
   "execution_count": 96,
   "metadata": {},
   "outputs": [
    {
     "name": "stdout",
     "output_type": "stream",
     "text": [
      "Decision Tree F1 Score: 0.7035868005738881\n"
     ]
    }
   ],
   "source": [
    "# Decision Tree\n",
    "dt = DecisionTreeClassifier(labelCol=\"churn\", featuresCol=\"features\", maxDepth=10)\n",
    "dt_model = dt.fit(train)\n",
    "dt_predictions = dt_model.transform(validation)\n",
    "\n",
    "# Evaluate Decision Tree\n",
    "dt_f1_score = evaluator.evaluate(dt_predictions)\n",
    "print(f\"Decision Tree F1 Score: {dt_f1_score}\")"
   ]
  },
  {
   "cell_type": "markdown",
   "metadata": {},
   "source": [
    "Train Naive Bayes Model"
   ]
  },
  {
   "cell_type": "code",
   "execution_count": 97,
   "metadata": {},
   "outputs": [
    {
     "name": "stdout",
     "output_type": "stream",
     "text": [
      "Naive Bayes F1 Score: 0.4700212407529481\n"
     ]
    }
   ],
   "source": [
    "\n",
    "# Naive Bayes\n",
    "nb = NaiveBayes(labelCol=\"churn\", featuresCol=\"features\", smoothing=1.0)\n",
    "nb_model = nb.fit(train)\n",
    "nb_predictions = nb_model.transform(validation)\n",
    "\n",
    "# Evaluate Naive Bayes\n",
    "nb_f1_score = evaluator.evaluate(nb_predictions)\n",
    "print(f\"Naive Bayes F1 Score: {nb_f1_score}\")\n"
   ]
  },
  {
   "cell_type": "markdown",
   "metadata": {},
   "source": [
    "Choose the Best Model"
   ]
  },
  {
   "cell_type": "markdown",
   "metadata": {},
   "source": [
    "To choose the best model, we need to compare the F1 scores of all the models trained."
   ]
  },
  {
   "cell_type": "markdown",
   "metadata": {},
   "source": [
    "Collect F1 Scores"
   ]
  },
  {
   "cell_type": "code",
   "execution_count": 100,
   "metadata": {},
   "outputs": [
    {
     "name": "stdout",
     "output_type": "stream",
     "text": [
      "Logistic Regression: F1 Score = 0.8742420534573238\n",
      "Random Forest: F1 Score = 0.7914053426248548\n",
      "Gradient Boosted Trees: F1 Score = 0.7563624508425536\n",
      "Decision Tree: F1 Score = 0.7035868005738881\n",
      "Naive Bayes: F1 Score = 0.4700212407529481\n"
     ]
    }
   ],
   "source": [
    "# Assuming these F1 scores are calculated for the validation set\n",
    "model_scores = {\n",
    "    \"Logistic Regression\": lr_f1_score,\n",
    "    \"Random Forest\": rf_f1_score,\n",
    "    \"Gradient Boosted Trees\": gbt_f1_score,\n",
    "    \"Decision Tree\": dt_f1_score,\n",
    "    \"Naive Bayes\": nb_f1_score\n",
    "}\n",
    "\n",
    "# Print the scores for comparison\n",
    "for model, score in model_scores.items():\n",
    "    print(f\"{model}: F1 Score = {score}\")"
   ]
  },
  {
   "cell_type": "markdown",
   "metadata": {},
   "source": [
    "Best Model: Logistic Regression"
   ]
  },
  {
   "cell_type": "markdown",
   "metadata": {},
   "source": [
    "- With the highest F1 Score of 0.874, Logistic Regression is the best-performing model on the validation set."
   ]
  },
  {
   "cell_type": "markdown",
   "metadata": {},
   "source": [
    "- To confirm its performance, evaluate the Logistic Regression model on the test set"
   ]
  },
  {
   "cell_type": "code",
   "execution_count": 103,
   "metadata": {},
   "outputs": [
    {
     "name": "stdout",
     "output_type": "stream",
     "text": [
      "Final F1 Score on Test Set for Logistic Regression: 0.9125733312192802\n"
     ]
    }
   ],
   "source": [
    "# Final evaluation on the test set\n",
    "lr_test_predictions = lr_model.transform(test)\n",
    "\n",
    "# Evaluate F1 Score on the test set\n",
    "final_f1_score = evaluator.evaluate(lr_test_predictions)\n",
    "print(f\"Final F1 Score on Test Set for Logistic Regression: {final_f1_score}\")"
   ]
  },
  {
   "cell_type": "markdown",
   "metadata": {},
   "source": [
    "# Final Steps\n",
    "Clean up your code, adding comments and renaming variables to make the code easier to read and maintain. Refer to the Spark Project Overview page and Data Scientist Capstone Project Rubric to make sure you are including all components of the capstone project and meet all expectations. Remember, this includes thorough documentation in a README file in a Github repository, as well as a web app or blog post."
   ]
  },
  {
   "cell_type": "code",
   "execution_count": null,
   "metadata": {},
   "outputs": [],
   "source": []
  }
 ],
 "metadata": {
  "kernelspec": {
   "display_name": "Python 3",
   "language": "python",
   "name": "python3"
  },
  "language_info": {
   "codemirror_mode": {
    "name": "ipython",
    "version": 3
   },
   "file_extension": ".py",
   "mimetype": "text/x-python",
   "name": "python",
   "nbconvert_exporter": "python",
   "pygments_lexer": "ipython3",
   "version": "3.13.1"
  }
 },
 "nbformat": 4,
 "nbformat_minor": 2
}
